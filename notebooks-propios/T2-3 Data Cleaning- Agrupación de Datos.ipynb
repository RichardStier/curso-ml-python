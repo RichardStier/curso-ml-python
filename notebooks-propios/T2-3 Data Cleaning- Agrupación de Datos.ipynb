{
 "cells": [
  {
   "cell_type": "markdown",
   "metadata": {},
   "source": [
    "# Agregacion de datos por Categorias"
   ]
  },
  {
   "cell_type": "code",
   "execution_count": 3,
   "metadata": {},
   "outputs": [],
   "source": [
    "import numpy as np\n",
    "import pandas as pd\n"
   ]
  },
  {
   "cell_type": "code",
   "execution_count": 4,
   "metadata": {},
   "outputs": [],
   "source": [
    "gender=[\"Male\",\"Female\"]\n",
    "income=[\"Poor\",\"Middle Class\",\"Rich\"]"
   ]
  },
  {
   "cell_type": "code",
   "execution_count": 5,
   "metadata": {},
   "outputs": [],
   "source": [
    "n=500\n",
    "\n",
    "gender_data=[]\n",
    "income_data=[]\n",
    "\n",
    "for i in range(0,500):\n",
    "    gender_data.append(np.random.choice(gender))\n",
    "    income_data.append(np.random.choice(income))"
   ]
  },
  {
   "cell_type": "code",
   "execution_count": 9,
   "metadata": {},
   "outputs": [],
   "source": [
    "#z->n(0,1)\n",
    "#N(m,s)->m+s*Z\n",
    "height=160+30*np.random.randn(n)\n",
    "weight=65+25*np.random.randn(n)\n",
    "age=30+12*np.random.randn(n)\n",
    "income=18000+3500*np.random.randn(n)"
   ]
  },
  {
   "cell_type": "code",
   "execution_count": 10,
   "metadata": {},
   "outputs": [],
   "source": [
    "data=pd.DataFrame(\n",
    "    {\n",
    "        \"Gender\":gender_data,\n",
    "        \"Economic Status\":income_data,\n",
    "        \"Height\":height,\n",
    "        \"Weight\":weight,\n",
    "        \"Age\":age,\n",
    "        \"income\":income\n",
    "    }\n",
    ")"
   ]
  },
  {
   "cell_type": "code",
   "execution_count": 11,
   "metadata": {},
   "outputs": [
    {
     "data": {
      "text/html": [
       "<div>\n",
       "<style scoped>\n",
       "    .dataframe tbody tr th:only-of-type {\n",
       "        vertical-align: middle;\n",
       "    }\n",
       "\n",
       "    .dataframe tbody tr th {\n",
       "        vertical-align: top;\n",
       "    }\n",
       "\n",
       "    .dataframe thead th {\n",
       "        text-align: right;\n",
       "    }\n",
       "</style>\n",
       "<table border=\"1\" class=\"dataframe\">\n",
       "  <thead>\n",
       "    <tr style=\"text-align: right;\">\n",
       "      <th></th>\n",
       "      <th>Gender</th>\n",
       "      <th>Economic Status</th>\n",
       "      <th>Height</th>\n",
       "      <th>Weight</th>\n",
       "      <th>Age</th>\n",
       "      <th>income</th>\n",
       "    </tr>\n",
       "  </thead>\n",
       "  <tbody>\n",
       "    <tr>\n",
       "      <th>0</th>\n",
       "      <td>Male</td>\n",
       "      <td>Poor</td>\n",
       "      <td>172.759786</td>\n",
       "      <td>62.809355</td>\n",
       "      <td>51.138243</td>\n",
       "      <td>17076.727173</td>\n",
       "    </tr>\n",
       "    <tr>\n",
       "      <th>1</th>\n",
       "      <td>Female</td>\n",
       "      <td>Rich</td>\n",
       "      <td>136.890113</td>\n",
       "      <td>37.635623</td>\n",
       "      <td>30.135668</td>\n",
       "      <td>15536.656648</td>\n",
       "    </tr>\n",
       "    <tr>\n",
       "      <th>2</th>\n",
       "      <td>Female</td>\n",
       "      <td>Middle Class</td>\n",
       "      <td>185.089930</td>\n",
       "      <td>70.244688</td>\n",
       "      <td>31.385018</td>\n",
       "      <td>18098.538441</td>\n",
       "    </tr>\n",
       "    <tr>\n",
       "      <th>3</th>\n",
       "      <td>Male</td>\n",
       "      <td>Middle Class</td>\n",
       "      <td>181.970509</td>\n",
       "      <td>49.373413</td>\n",
       "      <td>23.141827</td>\n",
       "      <td>17818.320608</td>\n",
       "    </tr>\n",
       "    <tr>\n",
       "      <th>4</th>\n",
       "      <td>Male</td>\n",
       "      <td>Poor</td>\n",
       "      <td>133.481669</td>\n",
       "      <td>69.373896</td>\n",
       "      <td>37.495849</td>\n",
       "      <td>20040.754864</td>\n",
       "    </tr>\n",
       "  </tbody>\n",
       "</table>\n",
       "</div>"
      ],
      "text/plain": [
       "   Gender Economic Status      Height     Weight        Age        income\n",
       "0    Male            Poor  172.759786  62.809355  51.138243  17076.727173\n",
       "1  Female            Rich  136.890113  37.635623  30.135668  15536.656648\n",
       "2  Female    Middle Class  185.089930  70.244688  31.385018  18098.538441\n",
       "3    Male    Middle Class  181.970509  49.373413  23.141827  17818.320608\n",
       "4    Male            Poor  133.481669  69.373896  37.495849  20040.754864"
      ]
     },
     "execution_count": 11,
     "metadata": {},
     "output_type": "execute_result"
    }
   ],
   "source": [
    "data.head()"
   ]
  },
  {
   "cell_type": "code",
   "execution_count": null,
   "metadata": {},
   "outputs": [],
   "source": []
  }
 ],
 "metadata": {
  "kernelspec": {
   "display_name": "Python 3",
   "language": "python",
   "name": "python3"
  },
  "language_info": {
   "codemirror_mode": {
    "name": "ipython",
    "version": 3
   },
   "file_extension": ".py",
   "mimetype": "text/x-python",
   "name": "python",
   "nbconvert_exporter": "python",
   "pygments_lexer": "ipython3",
   "version": "3.6.5"
  }
 },
 "nbformat": 4,
 "nbformat_minor": 2
}
